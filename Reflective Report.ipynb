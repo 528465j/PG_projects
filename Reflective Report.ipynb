{
 "cells": [
  {
   "cell_type": "markdown",
   "id": "4b5f8cf1",
   "metadata": {},
   "source": [
    "<br>\n",
    "<font size = 7> <b>Reflective Report</b></font><br>\n",
    "<font size = 4> <i>by Jatin Jass (46824014)</i></font>"
   ]
  },
  {
   "cell_type": "markdown",
   "id": "6adc540e",
   "metadata": {},
   "source": [
    "## <u>Unit overview</u>\n",
    "\n",
    "**Unit batch:** July 2022 <br>\n",
    "**Unit code:** COMP6200 <br> \n",
    "**Main language:** Python programming language <br>\n",
    "\n",
    "**Python:** As per the official website of Python, it is an interpreted, object-oriented, high-level programming language with dynamic semantics. It's high-level built-in data structures, combined with dynamic typing and dynamic binding"
   ]
  },
  {
   "cell_type": "markdown",
   "id": "684b7435",
   "metadata": {},
   "source": [
    "## <u>Solving problems along with Jupyter notebook</u>\n",
    "\n",
    "As a professional Business Analyst with more than 3 years of experience, I was well before aware about the significance of Python programming language in my field. Furthermore, as a graduate in Economics major, I realized that almost all career options in the field of economics, demands a good command over an analytical programming language like Python. \n",
    "\n",
    "As an international student, I was about a month late to start attending my classes in the University. Despite that, with the help of the convenor, tutors & other online/offline resources of the University, I was able to catch up & begin my journey of enhancing my knowledge in the field of Analytics.\n",
    "\n",
    "There are many factors that intrigued me while I was using Jupiter:<br>\n",
    "\n",
    "1. A **simple interface** that allows the user to not only run codes easily but giving the option to the user to **elaborate & comment on the codes** effectively & in an organized manner.\n",
    "2. I realized that Jupyter notebook **allows hosting server** in a very easy way. This is a plus point, especially in terms of **data security**. \n",
    "3. I was also very thrilled after performing many data visualization tasks. Even though, I was familiar with it, it excited me with a **variety of visualization options**. \n",
    "\n"
   ]
  },
  {
   "cell_type": "markdown",
   "id": "8eeb0641",
   "metadata": {},
   "source": [
    "## <u>Future perspective</u> \n",
    "\n",
    "As I have consistently maintained the field of my academic & professional area, I look forward to a prosperous future professionally. With an increasing dynamic nature of the business world & new factors defining the trends in almost all segments, Business Analytics is incomplete without a good hold on Data Science. And this gold hold is only possible with skills & knowledge in the Programming languages like Python. \n",
    "\n",
    "As per my goal of being a successful **strategist & Business Analyst**, I look forward of using skills like: \n",
    "- **Data Analysis**\n",
    "- **Modelling**\n",
    "- **Regression**\n",
    "- **Visualization**<br>\n",
    "\n",
    "***etc.***<br> \n",
    "with programming languages like **Python**, both before & after achieving my goals. I believe that Python language not only taught me to perform core Business Analytics tasks but has also made a **foundation for exploring & learning future platforms & languages** too comme, as per the demand in the Business Analytics world. "
   ]
  },
  {
   "cell_type": "markdown",
   "id": "b3f8664c",
   "metadata": {},
   "source": [
    "## <u>Portfolio 4</u>: <u>Human personalities & it's factors</u>"
   ]
  },
  {
   "cell_type": "markdown",
   "id": "65380633",
   "metadata": {},
   "source": [
    "### 1.  Briefing\n",
    "The regression analysis is conducted on a dataset of **314** people & their personalities. The **personality** of each individual is the **dependent variable** whereas there are **5 independent variables** defining the Personality variable:\n",
    "1. **Openness**\n",
    "2. **Neuroticism**\n",
    "3. **Conscientiousness**\n",
    "4. **Agreeableness**\n",
    "5. **Extraversion**\n",
    "\n",
    "The analysis starts with basic statistical calculations & basic visual presentation of the data & its basic statistical calculation & ends up with a proper **Logistical Regression modelling** on the dataset.\n",
    "\n",
    "***The dataset was taken from Kaggle. Web address:*** *https://www.kaggle.com/datasets/brsdincer/personality-scale-analysis*"
   ]
  },
  {
   "cell_type": "markdown",
   "id": "bb1c2419",
   "metadata": {},
   "source": [
    "### 2. Why the \"Human personalities & its factors\" Dataset\n",
    "\n",
    "The main reason for me choosing the dataset of this nature is my interest. I believe that element of psychology & behavioural  science is critical in almost all professions. From **endogenous factors** like **HR** to **exogenous factors** like choices determining **demand** to **market & advertisement**, psychology plays a critical role. <br>\n",
    "Apart from commercial interests, psychology & behavioural science can benefit a **better civilised** & **healthy society**. \n",
    " "
   ]
  },
  {
   "cell_type": "markdown",
   "id": "90c8283f",
   "metadata": {},
   "source": [
    "### 3. Why Logistic Regression, KNN & HyperParameters?\n",
    "\n",
    "When it comes to choosing Lostistic Regression, KNN & HyperParameters. There are some points as reasons behind it:\n",
    "1. ALL are knowns for their **simplicity** as they easier to implement, interpret, and very efficient. \n",
    "2. Logistic Regression proves to be very efficient when the dataset has features that are **linearly separable**.\n",
    "3. It makes no assumptions about distributions of classes in feature space. This makes it a bit more of an **accurate approach**.\n",
    "4. In a low to moderate-dimensional dataset, like the dataset processed, having a sufficient number of training examples, logistic regression is **less prone to over-fitting**.\n",
    "5. This algorithm allows models to be **updated easily** to reflect new data."
   ]
  },
  {
   "cell_type": "markdown",
   "id": "8644159d",
   "metadata": {},
   "source": [
    "### 4. Conclusion\n",
    "\n",
    "Based on the dataset, we have used Logistic Regression, KNN & HyperParameters. With the 3 approaches, we get the following accuracies:\n",
    "1. **Logistical Regression:** 0.841270\n",
    "2. **Logistical Regression with improvement:** 0.650794\n",
    "3. **KNN:** 0.587302\n",
    "4. **Hyperparameter:** 0.634980\n",
    "\n",
    "This suggests that with the given set of data of the dependent & independent variables, the **Linear Regression model** results with the **highest accuracy**.\n",
    "\n",
    "In simpler terms, this concludes that the independent variables: **Openness, Neuroticism, Conscientiousness, Agreeableness** & **Extraversion**  predict the dependends: **Personality** variable with the highest accuracy with Logistic regression. "
   ]
  }
 ],
 "metadata": {
  "kernelspec": {
   "display_name": "Python 3 (ipykernel)",
   "language": "python",
   "name": "python3"
  },
  "language_info": {
   "codemirror_mode": {
    "name": "ipython",
    "version": 3
   },
   "file_extension": ".py",
   "mimetype": "text/x-python",
   "name": "python",
   "nbconvert_exporter": "python",
   "pygments_lexer": "ipython3",
   "version": "3.9.12"
  }
 },
 "nbformat": 4,
 "nbformat_minor": 5
}
