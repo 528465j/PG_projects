{
 "cells": [
  {
   "cell_type": "markdown",
   "id": "ef4907f0",
   "metadata": {},
   "source": [
    "## Analysis of Epinions Dataset Part 2"
   ]
  },
  {
   "cell_type": "markdown",
   "id": "6d3fd46e",
   "metadata": {},
   "source": [
    "The goal of the second analysis task is to train linear regression models to predict users' ratings towards items. This involves a standard Data Science workflow: exploring data, building models, making predictions, and evaluating results. In this task, we will explore the impacts of feature selections and different sizes of training/testing data on the model performance. We will use another cleaned Epinions sub-dataset that is different from the one in Portfolio 1. "
   ]
  },
  {
   "cell_type": "code",
   "execution_count": 5,
   "id": "845f3517",
   "metadata": {},
   "outputs": [],
   "source": [
    "import pandas as pd\n",
    "import numpy as np\n",
    "from sklearn.model_selection import train_test_split\n",
    "from sklearn import linear_model\n",
    "\n",
    "from sklearn.metrics import mean_squared_error\n",
    "from sklearn.metrics import r2_score\n",
    "\n",
    "import seaborn as sns\n",
    "import matplotlib.pylab as plt\n",
    "%matplotlib inline"
   ]
  },
  {
   "cell_type": "markdown",
   "id": "b653abdc",
   "metadata": {},
   "source": [
    "### Import Cleaned Epinions Dataset\n",
    "The csv file named 'Epinions_cleaned_data_portfolio_2.csv'is provided. Please import the csv file (i.e., 'Epinions_cleaned_data_portfolio_2') and print out its total length."
   ]
  },
  {
   "cell_type": "code",
   "execution_count": 7,
   "id": "f868d672",
   "metadata": {},
   "outputs": [
    {
     "data": {
      "text/html": [
       "<div>\n",
       "<style scoped>\n",
       "    .dataframe tbody tr th:only-of-type {\n",
       "        vertical-align: middle;\n",
       "    }\n",
       "\n",
       "    .dataframe tbody tr th {\n",
       "        vertical-align: top;\n",
       "    }\n",
       "\n",
       "    .dataframe thead th {\n",
       "        text-align: right;\n",
       "    }\n",
       "</style>\n",
       "<table border=\"1\" class=\"dataframe\">\n",
       "  <thead>\n",
       "    <tr style=\"text-align: right;\">\n",
       "      <th></th>\n",
       "      <th>userId</th>\n",
       "      <th>timestamp</th>\n",
       "      <th>review</th>\n",
       "      <th>item</th>\n",
       "      <th>rating</th>\n",
       "      <th>helpfulness</th>\n",
       "      <th>gender</th>\n",
       "      <th>category</th>\n",
       "    </tr>\n",
       "  </thead>\n",
       "  <tbody>\n",
       "    <tr>\n",
       "      <th>0</th>\n",
       "      <td>4259</td>\n",
       "      <td>11900</td>\n",
       "      <td>Finally, Something for (Relatively) Nothing</td>\n",
       "      <td>MyPoints.com</td>\n",
       "      <td>4.0</td>\n",
       "      <td>4.0</td>\n",
       "      <td>F</td>\n",
       "      <td>Online Stores &amp; Services</td>\n",
       "    </tr>\n",
       "    <tr>\n",
       "      <th>1</th>\n",
       "      <td>4259</td>\n",
       "      <td>12000</td>\n",
       "      <td>Shocking!</td>\n",
       "      <td>Sixth Sense</td>\n",
       "      <td>5.0</td>\n",
       "      <td>4.0</td>\n",
       "      <td>F</td>\n",
       "      <td>Movies</td>\n",
       "    </tr>\n",
       "    <tr>\n",
       "      <th>2</th>\n",
       "      <td>4259</td>\n",
       "      <td>12000</td>\n",
       "      <td>Simply Shaggadelic!</td>\n",
       "      <td>Austin Powers: The Spy Who Shagged Me</td>\n",
       "      <td>5.0</td>\n",
       "      <td>4.0</td>\n",
       "      <td>F</td>\n",
       "      <td>Movies</td>\n",
       "    </tr>\n",
       "    <tr>\n",
       "      <th>3</th>\n",
       "      <td>4259</td>\n",
       "      <td>12000</td>\n",
       "      <td>Better Than The First!</td>\n",
       "      <td>Toy Story 2</td>\n",
       "      <td>5.0</td>\n",
       "      <td>3.0</td>\n",
       "      <td>F</td>\n",
       "      <td>Movies</td>\n",
       "    </tr>\n",
       "    <tr>\n",
       "      <th>4</th>\n",
       "      <td>4259</td>\n",
       "      <td>12000</td>\n",
       "      <td>Blair Witch made me appreciate this</td>\n",
       "      <td>Star Wars Episode I: The Phantom Menace</td>\n",
       "      <td>2.0</td>\n",
       "      <td>4.0</td>\n",
       "      <td>F</td>\n",
       "      <td>Movies</td>\n",
       "    </tr>\n",
       "    <tr>\n",
       "      <th>...</th>\n",
       "      <td>...</td>\n",
       "      <td>...</td>\n",
       "      <td>...</td>\n",
       "      <td>...</td>\n",
       "      <td>...</td>\n",
       "      <td>...</td>\n",
       "      <td>...</td>\n",
       "      <td>...</td>\n",
       "    </tr>\n",
       "    <tr>\n",
       "      <th>2894</th>\n",
       "      <td>10815</td>\n",
       "      <td>112799</td>\n",
       "      <td>I dare you to sleep through this soon to be cl...</td>\n",
       "      <td>Sleepy Hollow</td>\n",
       "      <td>5.0</td>\n",
       "      <td>4.0</td>\n",
       "      <td>F</td>\n",
       "      <td>Movies</td>\n",
       "    </tr>\n",
       "    <tr>\n",
       "      <th>2895</th>\n",
       "      <td>10815</td>\n",
       "      <td>121299</td>\n",
       "      <td>Another movie to keep us out of the water!!!!</td>\n",
       "      <td>Deep Blue Sea</td>\n",
       "      <td>5.0</td>\n",
       "      <td>3.0</td>\n",
       "      <td>F</td>\n",
       "      <td>Movies</td>\n",
       "    </tr>\n",
       "    <tr>\n",
       "      <th>2896</th>\n",
       "      <td>10815</td>\n",
       "      <td>121399</td>\n",
       "      <td>Miles above other films.</td>\n",
       "      <td>Green Mile</td>\n",
       "      <td>5.0</td>\n",
       "      <td>4.0</td>\n",
       "      <td>F</td>\n",
       "      <td>Movies</td>\n",
       "    </tr>\n",
       "    <tr>\n",
       "      <th>2897</th>\n",
       "      <td>10815</td>\n",
       "      <td>121499</td>\n",
       "      <td>This could be the beginning of a comedy era.</td>\n",
       "      <td>Austin Powers: The Spy Who Shagged Me</td>\n",
       "      <td>3.0</td>\n",
       "      <td>4.0</td>\n",
       "      <td>F</td>\n",
       "      <td>Movies</td>\n",
       "    </tr>\n",
       "    <tr>\n",
       "      <th>2898</th>\n",
       "      <td>10815</td>\n",
       "      <td>121499</td>\n",
       "      <td>Maybe it should have been cut?</td>\n",
       "      <td>South Park: Bigger, Longer &amp; Uncut</td>\n",
       "      <td>3.0</td>\n",
       "      <td>4.0</td>\n",
       "      <td>F</td>\n",
       "      <td>Movies</td>\n",
       "    </tr>\n",
       "  </tbody>\n",
       "</table>\n",
       "<p>2899 rows × 8 columns</p>\n",
       "</div>"
      ],
      "text/plain": [
       "      userId  timestamp                                             review  \\\n",
       "0       4259      11900        Finally, Something for (Relatively) Nothing   \n",
       "1       4259      12000                                          Shocking!   \n",
       "2       4259      12000                                Simply Shaggadelic!   \n",
       "3       4259      12000                             Better Than The First!   \n",
       "4       4259      12000                Blair Witch made me appreciate this   \n",
       "...      ...        ...                                                ...   \n",
       "2894   10815     112799  I dare you to sleep through this soon to be cl...   \n",
       "2895   10815     121299      Another movie to keep us out of the water!!!!   \n",
       "2896   10815     121399                           Miles above other films.   \n",
       "2897   10815     121499       This could be the beginning of a comedy era.   \n",
       "2898   10815     121499                     Maybe it should have been cut?   \n",
       "\n",
       "                                         item  rating  helpfulness gender  \\\n",
       "0                                MyPoints.com     4.0          4.0      F   \n",
       "1                                 Sixth Sense     5.0          4.0      F   \n",
       "2       Austin Powers: The Spy Who Shagged Me     5.0          4.0      F   \n",
       "3                                 Toy Story 2     5.0          3.0      F   \n",
       "4     Star Wars Episode I: The Phantom Menace     2.0          4.0      F   \n",
       "...                                       ...     ...          ...    ...   \n",
       "2894                            Sleepy Hollow     5.0          4.0      F   \n",
       "2895                            Deep Blue Sea     5.0          3.0      F   \n",
       "2896                               Green Mile     5.0          4.0      F   \n",
       "2897    Austin Powers: The Spy Who Shagged Me     3.0          4.0      F   \n",
       "2898       South Park: Bigger, Longer & Uncut     3.0          4.0      F   \n",
       "\n",
       "                      category  \n",
       "0     Online Stores & Services  \n",
       "1                       Movies  \n",
       "2                       Movies  \n",
       "3                       Movies  \n",
       "4                       Movies  \n",
       "...                        ...  \n",
       "2894                    Movies  \n",
       "2895                    Movies  \n",
       "2896                    Movies  \n",
       "2897                    Movies  \n",
       "2898                    Movies  \n",
       "\n",
       "[2899 rows x 8 columns]"
      ]
     },
     "execution_count": 7,
     "metadata": {},
     "output_type": "execute_result"
    }
   ],
   "source": [
    "df = pd.read_csv(\"Desktop/User/JJ/Epinions_cleaned_data_portfolio_2.csv\")\n",
    "df"
   ]
  },
  {
   "cell_type": "markdown",
   "id": "001f83b6",
   "metadata": {},
   "source": [
    "### Explore the Dataset\n",
    "\n",
    "* Use the methods, i.e., `head()` and `info()`, to have a rough picture about the data, e.g., how many columns, and the data types of each column. \n",
    "* As our goal is to predict ratings given other columns, please get the correlations between helpfulness/gender/category/review and rating by using the `corr()` method.\n",
    "* To get the correlations between different features, you may need to first convert the categorical features (i.e., gender, category and review) into numerial values. For doing this, you may need to import `OrdinalEncoder` from `sklearn.preprocessing` (refer to the useful exmaples [here](https://pbpython.com/categorical-encoding.html))\n",
    "* Please provide ___necessary explanations/analysis___ on the correlations, and figure out which are the ___most___ and ___least___ corrleated features regarding rating (positive or negative). Try to ___discuss___ how the correlation will affect the final prediction results, if we use these features to train a regression model for rating prediction. In what follows, we will conduct experiments to verify your hypothesis."
   ]
  },
  {
   "cell_type": "code",
   "execution_count": 78,
   "id": "39310550",
   "metadata": {},
   "outputs": [
    {
     "data": {
      "text/html": [
       "<div>\n",
       "<style scoped>\n",
       "    .dataframe tbody tr th:only-of-type {\n",
       "        vertical-align: middle;\n",
       "    }\n",
       "\n",
       "    .dataframe tbody tr th {\n",
       "        vertical-align: top;\n",
       "    }\n",
       "\n",
       "    .dataframe thead th {\n",
       "        text-align: right;\n",
       "    }\n",
       "</style>\n",
       "<table border=\"1\" class=\"dataframe\">\n",
       "  <thead>\n",
       "    <tr style=\"text-align: right;\">\n",
       "      <th></th>\n",
       "      <th>userId</th>\n",
       "      <th>timestamp</th>\n",
       "      <th>review</th>\n",
       "      <th>item</th>\n",
       "      <th>rating</th>\n",
       "      <th>helpfulness</th>\n",
       "      <th>gender</th>\n",
       "      <th>category</th>\n",
       "      <th>category_code</th>\n",
       "      <th>gender_code</th>\n",
       "      <th>review_code</th>\n",
       "    </tr>\n",
       "  </thead>\n",
       "  <tbody>\n",
       "    <tr>\n",
       "      <th>0</th>\n",
       "      <td>4259</td>\n",
       "      <td>11900</td>\n",
       "      <td>Finally, Something for (Relatively) Nothing</td>\n",
       "      <td>MyPoints.com</td>\n",
       "      <td>4.0</td>\n",
       "      <td>4.0</td>\n",
       "      <td>F</td>\n",
       "      <td>Online Stores &amp; Services</td>\n",
       "      <td>6</td>\n",
       "      <td>0</td>\n",
       "      <td>856</td>\n",
       "    </tr>\n",
       "    <tr>\n",
       "      <th>1</th>\n",
       "      <td>4259</td>\n",
       "      <td>12000</td>\n",
       "      <td>Shocking!</td>\n",
       "      <td>Sixth Sense</td>\n",
       "      <td>5.0</td>\n",
       "      <td>4.0</td>\n",
       "      <td>F</td>\n",
       "      <td>Movies</td>\n",
       "      <td>5</td>\n",
       "      <td>0</td>\n",
       "      <td>1985</td>\n",
       "    </tr>\n",
       "    <tr>\n",
       "      <th>2</th>\n",
       "      <td>4259</td>\n",
       "      <td>12000</td>\n",
       "      <td>Simply Shaggadelic!</td>\n",
       "      <td>Austin Powers: The Spy Who Shagged Me</td>\n",
       "      <td>5.0</td>\n",
       "      <td>4.0</td>\n",
       "      <td>F</td>\n",
       "      <td>Movies</td>\n",
       "      <td>5</td>\n",
       "      <td>0</td>\n",
       "      <td>2006</td>\n",
       "    </tr>\n",
       "    <tr>\n",
       "      <th>3</th>\n",
       "      <td>4259</td>\n",
       "      <td>12000</td>\n",
       "      <td>Better Than The First!</td>\n",
       "      <td>Toy Story 2</td>\n",
       "      <td>5.0</td>\n",
       "      <td>3.0</td>\n",
       "      <td>F</td>\n",
       "      <td>Movies</td>\n",
       "      <td>5</td>\n",
       "      <td>0</td>\n",
       "      <td>472</td>\n",
       "    </tr>\n",
       "    <tr>\n",
       "      <th>4</th>\n",
       "      <td>4259</td>\n",
       "      <td>12000</td>\n",
       "      <td>Blair Witch made me appreciate this</td>\n",
       "      <td>Star Wars Episode I: The Phantom Menace</td>\n",
       "      <td>2.0</td>\n",
       "      <td>4.0</td>\n",
       "      <td>F</td>\n",
       "      <td>Movies</td>\n",
       "      <td>5</td>\n",
       "      <td>0</td>\n",
       "      <td>493</td>\n",
       "    </tr>\n",
       "  </tbody>\n",
       "</table>\n",
       "</div>"
      ],
      "text/plain": [
       "   userId  timestamp                                       review  \\\n",
       "0    4259      11900  Finally, Something for (Relatively) Nothing   \n",
       "1    4259      12000                                    Shocking!   \n",
       "2    4259      12000                          Simply Shaggadelic!   \n",
       "3    4259      12000                       Better Than The First!   \n",
       "4    4259      12000          Blair Witch made me appreciate this   \n",
       "\n",
       "                                      item  rating  helpfulness gender  \\\n",
       "0                             MyPoints.com     4.0          4.0      F   \n",
       "1                              Sixth Sense     5.0          4.0      F   \n",
       "2    Austin Powers: The Spy Who Shagged Me     5.0          4.0      F   \n",
       "3                              Toy Story 2     5.0          3.0      F   \n",
       "4  Star Wars Episode I: The Phantom Menace     2.0          4.0      F   \n",
       "\n",
       "                   category  category_code  gender_code  review_code  \n",
       "0  Online Stores & Services              6            0          856  \n",
       "1                    Movies              5            0         1985  \n",
       "2                    Movies              5            0         2006  \n",
       "3                    Movies              5            0          472  \n",
       "4                    Movies              5            0          493  "
      ]
     },
     "execution_count": 78,
     "metadata": {},
     "output_type": "execute_result"
    }
   ],
   "source": [
    "df.head()"
   ]
  },
  {
   "cell_type": "code",
   "execution_count": 8,
   "id": "a4388a91",
   "metadata": {},
   "outputs": [
    {
     "name": "stdout",
     "output_type": "stream",
     "text": [
      "<class 'pandas.core.frame.DataFrame'>\n",
      "RangeIndex: 2899 entries, 0 to 2898\n",
      "Data columns (total 8 columns):\n",
      " #   Column       Non-Null Count  Dtype  \n",
      "---  ------       --------------  -----  \n",
      " 0   userId       2899 non-null   int64  \n",
      " 1   timestamp    2899 non-null   int64  \n",
      " 2   review       2899 non-null   object \n",
      " 3   item         2899 non-null   object \n",
      " 4   rating       2899 non-null   float64\n",
      " 5   helpfulness  2899 non-null   float64\n",
      " 6   gender       2899 non-null   object \n",
      " 7   category     2899 non-null   object \n",
      "dtypes: float64(2), int64(2), object(4)\n",
      "memory usage: 181.3+ KB\n"
     ]
    }
   ],
   "source": [
    "df.info()"
   ]
  },
  {
   "cell_type": "code",
   "execution_count": 11,
   "id": "06fa3f49",
   "metadata": {},
   "outputs": [
    {
     "data": {
      "text/plain": [
       "OrdinalEncoder(dtype=<class 'int'>)"
      ]
     },
     "execution_count": 11,
     "metadata": {},
     "output_type": "execute_result"
    }
   ],
   "source": [
    "from sklearn.preprocessing  import OrdinalEncoder\n",
    "\n",
    "ord_enc = OrdinalEncoder(dtype = int)\n",
    "ord_enc"
   ]
  },
  {
   "cell_type": "code",
   "execution_count": 12,
   "id": "6897a989",
   "metadata": {},
   "outputs": [
    {
     "data": {
      "text/plain": [
       "['userId',\n",
       " 'timestamp',\n",
       " 'review',\n",
       " 'item',\n",
       " 'rating',\n",
       " 'helpfulness',\n",
       " 'gender',\n",
       " 'category']"
      ]
     },
     "execution_count": 12,
     "metadata": {},
     "output_type": "execute_result"
    }
   ],
   "source": [
    "df.columns.tolist()"
   ]
  },
  {
   "cell_type": "code",
   "execution_count": 20,
   "id": "330487a3",
   "metadata": {},
   "outputs": [
    {
     "data": {
      "text/plain": [
       "['userId',\n",
       " 'timestamp',\n",
       " 'review',\n",
       " 'item',\n",
       " 'rating',\n",
       " 'helpfulness',\n",
       " 'gender',\n",
       " 'category',\n",
       " 'category_code',\n",
       " 'gender_code',\n",
       " 'review_code']"
      ]
     },
     "execution_count": 20,
     "metadata": {},
     "output_type": "execute_result"
    }
   ],
   "source": [
    "df[\"category_code\"] = ord_enc.fit_transform(df[[\"category\"]])\n",
    "df[\"gender_code\"] = ord_enc.fit_transform(df[[\"gender\"]])\n",
    "df[\"review_code\"] = ord_enc.fit_transform(df[[\"review\"]])\n",
    "df.columns.tolist()"
   ]
  },
  {
   "cell_type": "code",
   "execution_count": 34,
   "id": "f0279804",
   "metadata": {},
   "outputs": [
    {
     "name": "stdout",
     "output_type": "stream",
     "text": [
      "Category & Rating Correlation :  -0.14057638180137588\n",
      "Gender & Rating Correlation :  0.0181050390115076\n",
      "Review & Rating Correlation :  -0.06207107945825085\n",
      "Helpfulness & Rating Correlation :  -0.01683220982148863\n"
     ]
    }
   ],
   "source": [
    "corr_category = df[\"category_code\"].corr(df[\"rating\"])\n",
    "print(\"Category & Rating Correlation : \" ,corr_category)\n",
    "corr_gender = df[\"gender_code\"].corr(df[\"rating\"])\n",
    "print(\"Gender & Rating Correlation : \",corr_gender)\n",
    "corr_review = df[\"review_code\"].corr(df[\"rating\"])\n",
    "print(\"Review & Rating Correlation : \",corr_review)\n",
    "corr_helpfulness = df[\"helpfulness\"].corr(df[\"rating\"])\n",
    "print(\"Helpfulness & Rating Correlation : \",corr_helpfulness)"
   ]
  },
  {
   "cell_type": "markdown",
   "id": "8125f5b3",
   "metadata": {},
   "source": [
    "### Summary : \n",
    "\n",
    "1. Rating is more correlated with the category and review\n",
    "\n",
    "2. Rating is relatively less correlated with the helpfulness and gender\n",
    "\n",
    "3. Overall, rating is not highly correlated with the four features, as the correlation values are quite small\n"
   ]
  },
  {
   "cell_type": "markdown",
   "id": "f504589b",
   "metadata": {},
   "source": [
    "### Split Training and Testing Data\n",
    "* Machine learning models are trained to help make predictions for the future. Normally, we need to randomly split the dataset into training and testing sets, where we use the training set to train the model, and then leverage the well-trained model to make predictions on the testing set. \n",
    "* To further investigate whether the size of the training/testing data affects the model performance, please random split the data into training and testing sets with different sizes:\n",
    "    * Case 1: training data containing 10% of the entire data;\n",
    "    * Case 2: training data containing 90% of the entire data. \n",
    "* Print the shape of training and testing sets in the two cases. "
   ]
  },
  {
   "cell_type": "code",
   "execution_count": null,
   "id": "cbb79c1f",
   "metadata": {},
   "outputs": [],
   "source": [
    "train_case1,test_case1 = train_test_split(df, test_size = 0.9, random_state = 142)"
   ]
  },
  {
   "cell_type": "code",
   "execution_count": 62,
   "id": "80fda6c8",
   "metadata": {},
   "outputs": [
    {
     "data": {
      "text/plain": [
       "(289, 11)"
      ]
     },
     "execution_count": 62,
     "metadata": {},
     "output_type": "execute_result"
    }
   ],
   "source": [
    "train_case1.shape"
   ]
  },
  {
   "cell_type": "code",
   "execution_count": 61,
   "id": "88babc67",
   "metadata": {},
   "outputs": [
    {
     "data": {
      "text/plain": [
       "(2610, 11)"
      ]
     },
     "execution_count": 61,
     "metadata": {},
     "output_type": "execute_result"
    }
   ],
   "source": [
    "test_case1.shape"
   ]
  },
  {
   "cell_type": "code",
   "execution_count": null,
   "id": "016ea180",
   "metadata": {},
   "outputs": [],
   "source": [
    "train_case2, test_case2 = train_test_split(df, test_size = 0.1,random_state = 142)"
   ]
  },
  {
   "cell_type": "code",
   "execution_count": 38,
   "id": "68e77541",
   "metadata": {},
   "outputs": [
    {
     "data": {
      "text/plain": [
       "(2609, 11)"
      ]
     },
     "execution_count": 38,
     "metadata": {},
     "output_type": "execute_result"
    }
   ],
   "source": [
    "train_case2.shape"
   ]
  },
  {
   "cell_type": "code",
   "execution_count": 39,
   "id": "45ccae1a",
   "metadata": {},
   "outputs": [
    {
     "data": {
      "text/plain": [
       "(290, 11)"
      ]
     },
     "execution_count": 39,
     "metadata": {},
     "output_type": "execute_result"
    }
   ],
   "source": [
    "test_case2.shape"
   ]
  },
  {
   "cell_type": "markdown",
   "id": "7473953e",
   "metadata": {},
   "source": [
    "### Train Linear Regression Models with Feature Selection under Cases 1 & 2\n",
    "* When training a machine learning model for prediction, we may need to select the most important/correlated input features for more accurate results. \n",
    "* To investigate whether feature selection affects the model performance, please select __two most correlated features and two least correlated features__ regarding rating, respectively. \n",
    "* Train __four__ linear regression models by following the conditions:\n",
    "    - (model-a) using the training/testing data in __case 1__ with __two most__ correlated input features\n",
    "    - (model-b) using the training/testing data in __case 1__ with __two least__ correlated input features\n",
    "    - (model-c) using the training/testing data in __case 2__ with __two most__ correlated input features\n",
    "    - (model-d) using the training/testing data in __case 2__ with __two least__ correlated input features\n",
    "* By doing this, we can verify the impacts of the size of traing/testing data on the model performance via comparing model-a and model-c (or model-b and model-d); meanwhile the impacts of feature selection can be validated via comparing model-a and model-b (or model-c and model-d).    "
   ]
  },
  {
   "cell_type": "code",
   "execution_count": 43,
   "id": "ca8ca5c8",
   "metadata": {},
   "outputs": [
    {
     "data": {
      "text/plain": [
       "LinearRegression()"
      ]
     },
     "execution_count": 43,
     "metadata": {},
     "output_type": "execute_result"
    }
   ],
   "source": [
    "reg_1M = linear_model.LinearRegression()\n",
    "reg_1M\n",
    "\n",
    "X_train_1M = train_case1[[\"category_code\",\"review_code\"]]\n",
    "y_train_1M = train_case1[\"rating\"]\n",
    "\n",
    "X_test_1M = test_case1[[\"category_code\",\"review_code\"]]\n",
    "y_test_1M = test_case1[\"rating\"]\n",
    "\n",
    "reg_1M.fit(X_train_1M,y_train_1M)"
   ]
  },
  {
   "cell_type": "code",
   "execution_count": 46,
   "id": "d9b84f77",
   "metadata": {},
   "outputs": [
    {
     "data": {
      "text/plain": [
       "LinearRegression()"
      ]
     },
     "execution_count": 46,
     "metadata": {},
     "output_type": "execute_result"
    }
   ],
   "source": [
    "reg_1L = linear_model.LinearRegression()\n",
    "reg_1L\n",
    "\n",
    "X_train_1L = train_case1[[\"gender_code\",\"helpfulness\"]]\n",
    "y_train_1L = train_case1[\"rating\"]\n",
    "\n",
    "X_test_1L = test_case1[[\"gender_code\",\"helpfulness\"]]\n",
    "y_test_1L = test_case1[\"rating\"]\n",
    "\n",
    "reg_1L.fit(X_train_1L,y_train_1L)"
   ]
  },
  {
   "cell_type": "code",
   "execution_count": 54,
   "id": "274e6c00",
   "metadata": {},
   "outputs": [
    {
     "data": {
      "text/plain": [
       "LinearRegression()"
      ]
     },
     "execution_count": 54,
     "metadata": {},
     "output_type": "execute_result"
    }
   ],
   "source": [
    "reg_2M = linear_model.LinearRegression()\n",
    "reg_2M\n",
    "\n",
    "X_train_2M = train_case2[[\"category_code\",\"review_code\"]]\n",
    "y_train_2M = train_case2[\"rating\"]\n",
    "\n",
    "X_test_2M = test_case2[[\"category_code\",\"review_code\"]]\n",
    "y_test_2M = test_case2[\"rating\"]\n",
    "\n",
    "reg_2M.fit(X_train_2M,y_train_2M)"
   ]
  },
  {
   "cell_type": "code",
   "execution_count": 55,
   "id": "7d7cdd37",
   "metadata": {},
   "outputs": [
    {
     "data": {
      "text/plain": [
       "LinearRegression()"
      ]
     },
     "execution_count": 55,
     "metadata": {},
     "output_type": "execute_result"
    }
   ],
   "source": [
    "reg_2L = linear_model.LinearRegression()\n",
    "reg_2L\n",
    "\n",
    "X_train_2L = train_case2[[\"gender_code\",\"helpfulness\"]]\n",
    "y_train_2L = train_case2[\"rating\"]\n",
    "\n",
    "X_test_2L = test_case2[[\"gender_code\",\"helpfulness\"]]\n",
    "y_test_2L = test_case2[\"rating\"]\n",
    "\n",
    "reg_2L.fit(X_train_2L,y_train_2L)"
   ]
  },
  {
   "cell_type": "markdown",
   "id": "7469f92c",
   "metadata": {},
   "source": [
    "### Evaluate Models\n",
    "* Evaluate the performance of the four models with two metrics, including MSE and Root MSE\n",
    "* Print the results of the four models regarding the two metrics"
   ]
  },
  {
   "cell_type": "code",
   "execution_count": 57,
   "id": "7db217db",
   "metadata": {},
   "outputs": [
    {
     "name": "stdout",
     "output_type": "stream",
     "text": [
      "Reg_1M MSE: 1.7661060021271924\n",
      "Reg_1M Root MSE: 1.3289492097620557\n"
     ]
    }
   ],
   "source": [
    "predicted_1M = reg_1M.predict(X_test_1M)\n",
    "predicted_1M\n",
    "\n",
    "mse_1M = mean_squared_error(predicted_1M, y_test_1M)\n",
    "rmse_1M = np.sqrt(mse_1M)\n",
    "\n",
    "print(\"Reg_1M MSE:\", mse_1M)\n",
    "print(\"Reg_1M Root MSE:\", rmse_1M)"
   ]
  },
  {
   "cell_type": "code",
   "execution_count": 58,
   "id": "9946bfbc",
   "metadata": {},
   "outputs": [
    {
     "name": "stdout",
     "output_type": "stream",
     "text": [
      "Reg_1L MSE: 1.8142164061736321\n",
      "Reg_1L Root MSE: 1.3469285081895148\n"
     ]
    }
   ],
   "source": [
    "predicted_1L = reg_1L.predict(X_test_1L)\n",
    "predicted_1L\n",
    "\n",
    "mse_1L = mean_squared_error(predicted_1L, y_test_1L)\n",
    "rmse_1L = np.sqrt(mse_1L)\n",
    "\n",
    "print(\"Reg_1L MSE:\", mse_1L)\n",
    "print(\"Reg_1L Root MSE:\", rmse_1L)"
   ]
  },
  {
   "cell_type": "code",
   "execution_count": 59,
   "id": "ce9a849d",
   "metadata": {},
   "outputs": [
    {
     "name": "stdout",
     "output_type": "stream",
     "text": [
      "Reg_2M MSE: 1.6761619414799571\n",
      "Reg_2M Root MSE: 1.2946667298884131\n"
     ]
    }
   ],
   "source": [
    "predicted_2M = reg_2M.predict(X_test_2M)\n",
    "predicted_2M\n",
    "\n",
    "mse_2M = mean_squared_error(predicted_2M, y_test_2M)\n",
    "rmse_2M = np.sqrt(mse_2M)\n",
    "\n",
    "print(\"Reg_2M MSE:\", mse_2M)\n",
    "print(\"Reg_2M Root MSE:\", rmse_2M)"
   ]
  },
  {
   "cell_type": "code",
   "execution_count": 60,
   "id": "9161547a",
   "metadata": {},
   "outputs": [
    {
     "name": "stdout",
     "output_type": "stream",
     "text": [
      "Reg_2L MSE: 1.7684952380582883\n",
      "Reg_2L Root MSE: 1.3298478251507908\n"
     ]
    }
   ],
   "source": [
    "predicted_2L = reg_2L.predict(X_test_2L)\n",
    "predicted_2L\n",
    "\n",
    "mse_2L = mean_squared_error(predicted_2L, y_test_2L)\n",
    "rmse_2L = np.sqrt(mse_2L)\n",
    "\n",
    "print(\"Reg_2L MSE:\", mse_2L)\n",
    "print(\"Reg_2L Root MSE:\", rmse_2L)"
   ]
  },
  {
   "cell_type": "markdown",
   "id": "9a06a877",
   "metadata": {},
   "source": [
    "### Visualize, Compare and Analyze the Results\n",
    "* Visulize the results, and perform ___insightful analysis___ on the obtained results. For better visualization, you may need to carefully set the scale for the y-axis.\n",
    "* Normally, the model trained with most correlated features and more training data will get better results. Do you obtain the similar observations? If not, please ___explain the possible reasons___."
   ]
  },
  {
   "cell_type": "code",
   "execution_count": 66,
   "id": "c1869260",
   "metadata": {},
   "outputs": [
    {
     "data": {
      "text/html": [
       "<div>\n",
       "<style scoped>\n",
       "    .dataframe tbody tr th:only-of-type {\n",
       "        vertical-align: middle;\n",
       "    }\n",
       "\n",
       "    .dataframe tbody tr th {\n",
       "        vertical-align: top;\n",
       "    }\n",
       "\n",
       "    .dataframe thead th {\n",
       "        text-align: right;\n",
       "    }\n",
       "</style>\n",
       "<table border=\"1\" class=\"dataframe\">\n",
       "  <thead>\n",
       "    <tr style=\"text-align: right;\">\n",
       "      <th></th>\n",
       "      <th>mse</th>\n",
       "    </tr>\n",
       "  </thead>\n",
       "  <tbody>\n",
       "    <tr>\n",
       "      <th>reg_1M</th>\n",
       "      <td>1.766106</td>\n",
       "    </tr>\n",
       "    <tr>\n",
       "      <th>reg_1L</th>\n",
       "      <td>1.814216</td>\n",
       "    </tr>\n",
       "    <tr>\n",
       "      <th>reg_2M</th>\n",
       "      <td>1.676162</td>\n",
       "    </tr>\n",
       "    <tr>\n",
       "      <th>reg_2L</th>\n",
       "      <td>1.768495</td>\n",
       "    </tr>\n",
       "  </tbody>\n",
       "</table>\n",
       "</div>"
      ],
      "text/plain": [
       "             mse\n",
       "reg_1M  1.766106\n",
       "reg_1L  1.814216\n",
       "reg_2M  1.676162\n",
       "reg_2L  1.768495"
      ]
     },
     "execution_count": 66,
     "metadata": {},
     "output_type": "execute_result"
    }
   ],
   "source": [
    "df_mse = pd.DataFrame({\"mse\":[mse_1M,mse_1L,mse_2M,mse_2L]},index = [\"reg_1M\",\"reg_1L\",\"reg_2M\",\"reg_2L\"])\n",
    "df_mse"
   ]
  },
  {
   "cell_type": "code",
   "execution_count": 71,
   "id": "da7911a0",
   "metadata": {},
   "outputs": [
    {
     "data": {
      "text/plain": [
       "<BarContainer object of 4 artists>"
      ]
     },
     "execution_count": 71,
     "metadata": {},
     "output_type": "execute_result"
    },
    {
     "data": {
      "image/png": "[encoded data removed]",
      "text/plain": [
       "<Figure size 432x288 with 1 Axes>"
      ]
     },
     "metadata": {
      "needs_background": "light"
     },
     "output_type": "display_data"
    }
   ],
   "source": [
    "plt.ylim(1.6,1.9)\n",
    "plt.xlabel(\"Different models\" , size = 15)\n",
    "plt.ylabel(\"MSE\", size = 15)\n",
    "plt.title(\"Comparison on MSE\", size = 15)\n",
    "\n",
    "plt.bar(data = df_mse,\n",
    "        height = \"mse\",\n",
    "        x = [\"reg_1M\",\"reg_1L\",\"reg_2M\",\"reg_2L\"],\n",
    "        color = \"c\")"
   ]
  },
  {
   "cell_type": "markdown",
   "id": "a6bff4eb",
   "metadata": {},
   "source": [
    "## Analysis\n",
    "* reg_1M < reg_1L indicates that more correlated input features  help generate better models (result)\n",
    "* reg_1M > reg_2M indicates that more training leads to better predictions(models)"
   ]
  },
  {
   "cell_type": "code",
   "execution_count": 72,
   "id": "58dc37bf",
   "metadata": {},
   "outputs": [
    {
     "data": {
      "text/html": [
       "<div>\n",
       "<style scoped>\n",
       "    .dataframe tbody tr th:only-of-type {\n",
       "        vertical-align: middle;\n",
       "    }\n",
       "\n",
       "    .dataframe tbody tr th {\n",
       "        vertical-align: top;\n",
       "    }\n",
       "\n",
       "    .dataframe thead th {\n",
       "        text-align: right;\n",
       "    }\n",
       "</style>\n",
       "<table border=\"1\" class=\"dataframe\">\n",
       "  <thead>\n",
       "    <tr style=\"text-align: right;\">\n",
       "      <th></th>\n",
       "      <th>rmse</th>\n",
       "    </tr>\n",
       "  </thead>\n",
       "  <tbody>\n",
       "    <tr>\n",
       "      <th>reg_1M</th>\n",
       "      <td>1.328949</td>\n",
       "    </tr>\n",
       "    <tr>\n",
       "      <th>reg_1L</th>\n",
       "      <td>1.346929</td>\n",
       "    </tr>\n",
       "    <tr>\n",
       "      <th>reg_2M</th>\n",
       "      <td>1.294667</td>\n",
       "    </tr>\n",
       "    <tr>\n",
       "      <th>reg_2L</th>\n",
       "      <td>1.329848</td>\n",
       "    </tr>\n",
       "  </tbody>\n",
       "</table>\n",
       "</div>"
      ],
      "text/plain": [
       "            rmse\n",
       "reg_1M  1.328949\n",
       "reg_1L  1.346929\n",
       "reg_2M  1.294667\n",
       "reg_2L  1.329848"
      ]
     },
     "execution_count": 72,
     "metadata": {},
     "output_type": "execute_result"
    }
   ],
   "source": [
    "df_rmse = pd.DataFrame({\"rmse\":[rmse_1M,rmse_1L,rmse_2M,rmse_2L]},index = [\"reg_1M\",\"reg_1L\",\"reg_2M\",\"reg_2L\"])\n",
    "df_rmse"
   ]
  },
  {
   "cell_type": "code",
   "execution_count": 77,
   "id": "239e25f7",
   "metadata": {},
   "outputs": [
    {
     "data": {
      "text/plain": [
       "<BarContainer object of 4 artists>"
      ]
     },
     "execution_count": 77,
     "metadata": {},
     "output_type": "execute_result"
    },
    {
     "data": {
      "image/png": "[encoded data removed]",
      "text/plain": [
       "<Figure size 432x288 with 1 Axes>"
      ]
     },
     "metadata": {
      "needs_background": "light"
     },
     "output_type": "display_data"
    }
   ],
   "source": [
    "plt.ylim(1.0,1.8)\n",
    "plt.xlabel(\"Different models\" , size = 15)\n",
    "plt.ylabel(\"RMSE\", size = 15)\n",
    "plt.title(\"Comparison on RMSE\", size = 15)\n",
    "\n",
    "plt.bar(data = df_rmse,\n",
    "        height = \"rmse\",\n",
    "        x = [\"reg_1M\",\"reg_1L\",\"reg_2M\",\"reg_2L\"],\n",
    "        color = \"red\")"
   ]
  },
  {
   "cell_type": "markdown",
   "id": "527afe35",
   "metadata": {},
   "source": [
    "## Analysis\n",
    "* reg_1M < reg_1L indicates that more correlated input features  help generate better models (result)\n",
    "* reg_1M > reg_2M indicates that more training leads to better predictions\n",
    "* Also we can see that there is not much deviation in all the box plots i.e, the test data containing 10% of total data has relativelty similar values"
   ]
  }
 ],
 "metadata": {
  "kernelspec": {
   "display_name": "Python 3 (ipykernel)",
   "language": "python",
   "name": "python3"
  },
  "language_info": {
   "codemirror_mode": {
    "name": "ipython",
    "version": 3
   },
   "file_extension": ".py",
   "mimetype": "text/x-python",
   "name": "python",
   "nbconvert_exporter": "python",
   "pygments_lexer": "ipython3",
   "version": "3.9.12"
  }
 },
 "nbformat": 4,
 "nbformat_minor": 5
}
